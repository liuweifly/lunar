{
 "cells": [
  {
   "cell_type": "code",
   "execution_count": 5,
   "id": "932fb986-8956-45e0-b291-52ca118e581d",
   "metadata": {},
   "outputs": [
    {
     "name": "stdout",
     "output_type": "stream",
     "text": [
      "一九九一年四月廿八 辛未(羊)年 甲午(马)月 辛亥(猪)日 子(鼠)时 纳音[路旁土 沙中金 钗钏金 霹雳火] 星期一 南方朱雀 星宿[张月鹿](吉) 彭祖百忌[辛不合酱主人不尝 亥不嫁娶不利新郎] 喜神方位[坤](西南) 阳贵神方位[艮](东北) 阴贵神方位[离](正南) 福神方位[乾](西北) 财神方位[震](正东) 冲[(乙巳)蛇] 煞[西]\n",
      "1991-06-10 00:00:00 星期一 双子座\n"
     ]
    }
   ],
   "source": [
    "from lunar_python import Lunar\n",
    "\n",
    "# 通过指定年月日初始化阴历\n",
    "lunar = Lunar.fromYmd(1991, 4, 28)\n",
    " \n",
    "# 打印阴历\n",
    "print(lunar.toFullString())\n",
    " \n",
    "# 阴历转阳历并打印\n",
    "print(lunar.getSolar().toFullString())\n"
   ]
  },
  {
   "cell_type": "code",
   "execution_count": 10,
   "id": "f670b95c-35c0-4413-89f1-6eb94e503f6d",
   "metadata": {},
   "outputs": [
    {
     "name": "stdout",
     "output_type": "stream",
     "text": [
      "一九八六年四月廿一\n",
      "一九八六年四月廿一 丙寅(虎)年 癸巳(蛇)月 癸酉(鸡)日 子(鼠)时 纳音[炉中火 长流水 剑锋金 桑柘木] 星期四 北方玄武 星宿[斗木獬](吉) 彭祖百忌[癸不词讼理弱敌强 酉不会客醉坐颠狂] 喜神方位[巽](东南) 阳贵神方位[巽](东南) 阴贵神方位[震](正东) 福神方位[艮](东北) 财神方位[离](正南) 冲[(丁卯)兔] 煞[东]\n",
      "戌时\n"
     ]
    }
   ],
   "source": [
    "d = Lunar.fromYmd(1986, 4, 21)\n",
    "print(d)\n",
    "print (d.toFullString())\n",
    "\n",
    "\n",
    "\n",
    "d = Lunar.fromYmdHms(1986, 4, 21, 20, 5, 0)\n",
    "# 时辰\n",
    "print(d.getTimeZhi() + '时')"
   ]
  },
  {
   "cell_type": "code",
   "execution_count": 15,
   "id": "e3b1d1fa-fdef-4d13-9f08-9ce3d756ed78",
   "metadata": {},
   "outputs": [
    {
     "name": "stdout",
     "output_type": "stream",
     "text": [
      "1986-05-29\n",
      "1986-05-29 00:00:00 星期四 (国际维和人员日) 双子座\n"
     ]
    }
   ],
   "source": [
    "lunar = Lunar.fromYmd(1986, 4, 21);\n",
    "solar = lunar.getSolar()\n",
    "print(solar.toString());\n",
    "print(solar.toFullString())"
   ]
  },
  {
   "cell_type": "code",
   "execution_count": 24,
   "id": "41b55018-dcf5-4334-abb1-2b919b9e8260",
   "metadata": {},
   "outputs": [
    {
     "name": "stdout",
     "output_type": "stream",
     "text": [
      "2024-09-18\n",
      "二〇二四年八月十六\n",
      "二〇二四年八月十六 甲辰(龙)年 癸酉(鸡)月 乙酉(鸡)日 亥(猪)时 纳音[覆灯火 剑锋金 泉中水 屋上土] 星期三 南方朱雀 星宿[轸水蚓](吉) 彭祖百忌[乙不栽植千株不长 酉不会客醉坐颠狂] 喜神方位[乾](西北) 阳贵神方位[坤](西南) 阴贵神方位[坎](正北) 福神方位[坤](西南) 财神方位[艮](东北) 冲[(己卯)兔] 煞[东]\n"
     ]
    }
   ],
   "source": [
    "from lunar_python import Lunar, Solar\n",
    "from datetime import datetime\n",
    "\n",
    "\n",
    "# 实例化\n",
    "solar = Solar.fromDate(datetime.now())\n",
    "print(solar)\n",
    "\n",
    "# 转阴历\n",
    "lunar = solar.getLunar()\n",
    "\n",
    "print(lunar.toString())\n",
    "print(lunar.toFullString())"
   ]
  },
  {
   "cell_type": "code",
   "execution_count": 29,
   "id": "a5864708-5069-42ff-a36b-c00b504f33c6",
   "metadata": {},
   "outputs": [
    {
     "name": "stdout",
     "output_type": "stream",
     "text": [
      "1991-06-10\n",
      "一九九一年四月廿八\n",
      "一九九一年四月廿八 辛未(羊)年 甲午(马)月 辛亥(猪)日 子(鼠)时 纳音[路旁土 沙中金 钗钏金 霹雳火] 星期一 南方朱雀 星宿[张月鹿](吉) 彭祖百忌[辛不合酱主人不尝 亥不嫁娶不利新郎] 喜神方位[坤](西南) 阳贵神方位[艮](东北) 阴贵神方位[离](正南) 福神方位[乾](西北) 财神方位[震](正东) 冲[(乙巳)蛇] 煞[西]\n",
      "2016-01-01 20:35:00 闰年 星期五 (元旦节) 摩羯座\n",
      "2024-09-18 21:45:42 闰年 星期三 (九一八事变纪念日) 处女座\n",
      "2024-09-18 21:45:42 闰年 星期三 (九一八事变纪念日) 处女座\n",
      "1901-01-01 12:00:00 星期二 (元旦节) 摩羯座\n",
      "1960-12-17 12:00:00 闰年 星期六 射手座\n"
     ]
    }
   ],
   "source": [
    "# 年月日\n",
    "d = Solar.fromYmd(1991, 6, 10)\n",
    "print(d)\n",
    "lunar = d.getLunar()\n",
    "\n",
    "print(lunar.toString())\n",
    "print(lunar.toFullString())\n",
    "\n",
    "# 年月日时分秒\n",
    "d = Solar.fromYmdHms(2016, 1, 1, 20, 35, 0)\n",
    "print(d.toFullString())\n",
    "\n",
    "# 日期\n",
    "d = Solar.fromDate(datetime.now())\n",
    "print(d.toFullString())\n",
    "\n",
    "# 儒略日\n",
    "d = Solar.fromDate(datetime.now())\n",
    "print(d.toFullString())\n",
    "\n",
    "# 八字反推阳历\n",
    "l = Solar.fromBaZi(\"庚子\", \"戊子\", \"己卯\", \"庚午\")\n",
    "for solar in l:\n",
    "  print(solar.toFullString())"
   ]
  },
  {
   "cell_type": "code",
   "execution_count": 31,
   "id": "19bdce57-1ffd-4e79-b5bc-80d6196b8bed",
   "metadata": {},
   "outputs": [
    {
     "name": "stdout",
     "output_type": "stream",
     "text": [
      "二〇二四年九月初二 甲辰(龙)年 癸酉(鸡)月 辛丑(牛)日 戌(狗)时 纳音[覆灯火 剑锋金 壁上土 平地木] 星期五 西方白虎 星宿[娄金狗](吉) 彭祖百忌[辛不合酱主人不尝 丑不冠带主不还乡] 喜神方位[坤](西南) 阳贵神方位[艮](东北) 阴贵神方位[离](正南) 福神方位[乾](西北) 财神方位[震](正东) 冲[(乙未)羊] 煞[东]\n"
     ]
    }
   ],
   "source": [
    "# 年月日\n",
    "d = Solar.fromYmdHms(2024, 10, 4, 20, 30, 0)\n",
    "lunar = d.getLunar()\n",
    "\n",
    "print(lunar.toFullString())"
   ]
  },
  {
   "cell_type": "code",
   "execution_count": null,
   "id": "ced8b636-ce8e-4678-bb94-0ea681e87873",
   "metadata": {},
   "outputs": [],
   "source": []
  }
 ],
 "metadata": {
  "kernelspec": {
   "display_name": "Python 3 (ipykernel)",
   "language": "python",
   "name": "python3"
  },
  "language_info": {
   "codemirror_mode": {
    "name": "ipython",
    "version": 3
   },
   "file_extension": ".py",
   "mimetype": "text/x-python",
   "name": "python",
   "nbconvert_exporter": "python",
   "pygments_lexer": "ipython3",
   "version": "3.12.5"
  }
 },
 "nbformat": 4,
 "nbformat_minor": 5
}
